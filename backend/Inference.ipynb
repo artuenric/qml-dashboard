{
 "cells": [
  {
   "cell_type": "code",
   "execution_count": 1,
   "id": "b955e2fb",
   "metadata": {},
   "outputs": [],
   "source": [
    "from qiskit_machine_learning.algorithms.classifiers import NeuralNetworkClassifier\n",
    "from qiskit_machine_learning.algorithms.classifiers import QSVC"
   ]
  },
  {
   "cell_type": "code",
   "execution_count": 2,
   "id": "4050755e",
   "metadata": {},
   "outputs": [],
   "source": [
    "#===================================================================================================================================\n",
    "import seaborn as sns\n",
    "from openpyxl import Workbook, load_workbook\n",
    "#===================================================================================================================================\n",
    "from sklearn.model_selection import train_test_split\n",
    "from sklearn.preprocessing import StandardScaler, LabelEncoder\n",
    "from sklearn.linear_model import LogisticRegression\n",
    "from sklearn.feature_selection import RFE\n",
    "from sklearn.metrics import accuracy_score, confusion_matrix, recall_score, precision_score, f1_score\n",
    "from sklearn.feature_selection import SelectKBest, f_classif\n",
    "#==================================================================================================================================\n",
    "from imblearn.over_sampling import SMOTE\n",
    "#===================================================================================================================================\n",
    "\n",
    "import matplotlib.pyplot as plt\n",
    "import numpy as np\n",
    "import matplotlib.pyplot as plt\n",
    "import pandas as pd \n",
    "import os\n"
   ]
  },
  {
   "cell_type": "code",
   "execution_count": 3,
   "id": "f1f253b6",
   "metadata": {},
   "outputs": [],
   "source": [
    "def feature_selectionRFE(max_iter,data,X, y, numbers_features):\n",
    "    std = StandardScaler()\n",
    "    X = std.fit_transform(X)\n",
    "    model = LogisticRegression(max_iter=max_iter)\n",
    "    rfe = RFE(model,n_features_to_select=numbers_features)\n",
    "    fit = rfe.fit(X,y)\n",
    "    cols = fit.get_support(indices=True)\n",
    "    features = data.iloc[:,cols]\n",
    "    \n",
    "    return features, cols\n",
    "\n",
    "def feature_selectionKBest(X, y, numbers_features):\n",
    "    std = StandardScaler()\n",
    "    X = std.fit_transform(X)\n",
    "    kbest = SelectKBest(score_func=f_classif, k=numbers_features)\n",
    "    fit = kbest.fit(X,y)\n",
    "    X_selected = kbest.fit_transform(X, y)\n",
    "\n",
    "    return X_selected"
   ]
  },
  {
   "cell_type": "code",
   "execution_count": 4,
   "id": "6fe9302e",
   "metadata": {},
   "outputs": [
    {
     "name": "stdout",
     "output_type": "stream",
     "text": [
      "(49134, 69)\n"
     ]
    },
    {
     "name": "stderr",
     "output_type": "stream",
     "text": [
      "C:\\Users\\diego\\AppData\\Local\\Temp\\ipykernel_7248\\2930308404.py:25: FutureWarning: Calling int on a single element Series is deprecated and will raise a TypeError in the future. Use int(ser.iloc[0]) instead\n",
      "  num_NF = int(round(num_NF, 0))\n"
     ]
    },
    {
     "data": {
      "text/plain": [
       "<Axes: title={'center': 'Faults Distribution'}, ylabel='count'>"
      ]
     },
     "execution_count": 4,
     "metadata": {},
     "output_type": "execute_result"
    },
    {
     "data": {
      "image/png": "[encoded data removed]",
      "text/plain": [
       "<Figure size 640x480 with 1 Axes>"
      ]
     },
     "metadata": {},
     "output_type": "display_data"
    }
   ],
   "source": [
    "#======================================================= Parâmetros dos experimentos============================================================================\n",
    "filename = \"df_combine.csv\"\n",
    "path = os.path.join(os.getcwd(), 'compilacoes/data_exp_prepare')\n",
    "df_combine = pd.read_csv(os.path.join(path, filename), low_memory=False)\n",
    "df_combine.Fault.value_counts()\n",
    "fault= [['AF', ]]\n",
    "metrics = ['Accuracy', 'Precision', 'Recall', 'F1_Score']\n",
    "savefig = False # Salvar Figuras\n",
    "random_state = 80\n",
    "numbers_features = 8 # Numeros de Features para serem selecionadas\n",
    "batch_size = 400 # Tamanho dos batchs para treino\n",
    "qLayers = 1  # Número de camadas do circuito quântico\n",
    "perc_F_NF = 0.40  # Relação de falha com não falha\n",
    "res_C = []\n",
    "res_Q  = []\n",
    "result_kernel = []\n",
    "i = 0\n",
    "#=================================================================================================================================================================\n",
    "\n",
    "print(df_combine.shape)\n",
    "df_nf_ = df_combine[df_combine.Fault=='NF']\n",
    "df_f = df_combine[df_combine.Fault !='NF']\n",
    "\n",
    "num_NF = (df_f['Fault'].value_counts()[fault[i]] - perc_F_NF*df_f['Fault'].value_counts()[fault[i]])/perc_F_NF\n",
    "num_NF = int(round(num_NF, 0))\n",
    "\n",
    "df_nf = df_combine[df_combine.Fault=='NF'].sample(num_NF, replace=True ,random_state=random_state) # SELECIONANDO 300 SAMPLES DE CASOS DE NÃO FALHA\n",
    "df_combine = pd.concat((df_nf, df_f), axis=0).reset_index(drop=True)\n",
    "\n",
    "df = df_combine.drop(columns=['DateTime_x', 'Time', 'Error', 'WEC: ava. windspeed', \n",
    "                                    'WEC: ava. available P from wind',\n",
    "                                    'WEC: ava. available P technical reasons',\n",
    "                                    'WEC: ava. Available P force majeure reasons',\n",
    "                                    'WEC: ava. Available P force external reasons',\n",
    "                                    'WEC: max. windspeed', 'WEC: min. windspeed', \n",
    "                                    'WEC: Operating Hours', \n",
    "                                    'WEC: Production minutes', 'DateTime_y'])\n",
    "\n",
    "\n",
    "#df= df[(df['Fault'] == 'NF') | (df['Fault'] == fault[0][0])| (df['Fault'] == fault[0][1])| (df['Fault'] == fault[0][2])| (df['Fault'] == fault[0][3])| (df['Fault'] == fault[0][4])]\n",
    "df= df[(df['Fault'] == 'NF') | (df['Fault'] == fault[0][0])]\n",
    "df_f.Fault.value_counts().plot.pie(autopct = '%.2f%%', title = 'Faults Distribution')"
   ]
  },
  {
   "cell_type": "code",
   "execution_count": 5,
   "id": "9e9deb01",
   "metadata": {},
   "outputs": [
    {
     "data": {
      "text/plain": [
       "Fault\n",
       "FF    254\n",
       "EF    174\n",
       "NF     93\n",
       "AF     62\n",
       "GF     43\n",
       "MF     20\n",
       "Name: count, dtype: int64"
      ]
     },
     "execution_count": 5,
     "metadata": {},
     "output_type": "execute_result"
    }
   ],
   "source": [
    "# QNN\n",
    "df = df.sample(len(df))\n",
    "X = df.iloc[:,:-1]\n",
    "y = df.iloc[:,-1]\n",
    "le = LabelEncoder()\n",
    "y = le.fit_transform(y)\n",
    "\n",
    "for i in range(len(y)):\n",
    "    if y[i] == 0:\n",
    "        y[i] = 1\n",
    "    elif y[i] == 1:\n",
    "        y[i] = -1\n",
    "        \n",
    "        \n",
    "df_combine.Fault.value_counts()\n"
   ]
  },
  {
   "cell_type": "code",
   "execution_count": 6,
   "id": "e4cf6e53",
   "metadata": {},
   "outputs": [
    {
     "data": {
      "text/plain": [
       "Fault\n",
       "FF    254\n",
       "EF    174\n",
       "NF     93\n",
       "AF     62\n",
       "GF     43\n",
       "MF     20\n",
       "Name: count, dtype: int64"
      ]
     },
     "execution_count": 6,
     "metadata": {},
     "output_type": "execute_result"
    }
   ],
   "source": [
    "#QSVC\n",
    "#df = df.sample(len(df))\n",
    "#X = df.iloc[:,:-1]\n",
    "#y = df.iloc[:,-1]\n",
    "#le = LabelEncoder()\n",
    "#y = le.fit_transform(y)\n",
    "\n",
    "#for i in range(len(y)):\n",
    "#    if y[i] == 0:\n",
    "#        y[i] = 1\n",
    "#    elif y[i] == 1:\n",
    "#        y[i] = 0\n",
    "        \n",
    "        \n",
    "df_combine.Fault.value_counts()"
   ]
  },
  {
   "cell_type": "code",
   "execution_count": 7,
   "id": "6687f530",
   "metadata": {},
   "outputs": [
    {
     "name": "stdout",
     "output_type": "stream",
     "text": [
      "Quantidade de DADOS DE FALHA/NAOFALHA Fault\n",
      "NF    93\n",
      "AF    62\n",
      "Name: count, dtype: int64\n",
      "\n",
      "\n",
      "Quantidade de DADOS TOTAL 155\n",
      "Porcentagem de DADOS PARA TREINO 80.0%\n",
      "Porcentagem de DADOS PARA TESTE 20.0%\n",
      "FORMATO X_train: (148, 8)\n",
      "FORMATO X_test: (38, 8)\n",
      "Formato y_train: (148,)\n",
      "Formato y_test: (38,)\n"
     ]
    }
   ],
   "source": [
    "X_RFE = feature_selectionRFE(max_iter=500,data = df, X=X, y=y, numbers_features=numbers_features)\n",
    "X = X_RFE[0] # Redução de features\n",
    "#X_Best = feature_selectionKBest(X=X, y=y, numbers_features=numbers_features)\n",
    "#X =X_Best[0]\n",
    "\n",
    "# Apply undersampling using RandomUnderSampler\n",
    "#undersampler = RandomUnderSampler(sampling_strategy='not minority', random_state=42)\n",
    "#X, y = undersampler.fit_resample(X, y)\n",
    "smote = smote = SMOTE(random_state=42)\n",
    "X, y = smote.fit_resample(X, y)\n",
    "\n",
    "\n",
    "test_size = 0.20\n",
    "\n",
    "X_train, X_test, y_train, y_test = train_test_split(X, y, test_size = test_size, random_state= random_state)\n",
    "\n",
    "print(\"Quantidade de DADOS DE FALHA/NAOFALHA\", df.Fault.value_counts())\n",
    "print(\"\\n\")\n",
    "print(\"Quantidade de DADOS TOTAL\", df.Fault.shape[0])\n",
    "print(f\"Porcentagem de DADOS PARA TREINO {(1-test_size)*100}%\")\n",
    "print(f\"Porcentagem de DADOS PARA TESTE {(test_size)*100}%\")\n",
    "print(f\"FORMATO X_train: {X_train.shape}\\nFORMATO X_test: {X_test.shape}\\nFormato y_train: {y_train.shape}\\nFormato y_test: {y_test.shape}\")\n",
    "# Update n_features\n",
    "n_features = X.shape[1]\n",
    "\n",
    "# Now use X_selected instead of X in your quantum circuit\n",
    "\n",
    "#print(\"Quantidade de FEATURES:\", n_features)\n"
   ]
  },
  {
   "cell_type": "code",
   "execution_count": 8,
   "id": "923cfecd",
   "metadata": {},
   "outputs": [],
   "source": [
    "# Scalling\n",
    "std = StandardScaler()\n",
    "X_train_prep = pd.DataFrame(std.fit_transform(X_train))\n",
    "X_test_prep = pd.DataFrame(std.fit_transform(X_test))"
   ]
  },
  {
   "cell_type": "code",
   "execution_count": 9,
   "id": "c6e9d2ab",
   "metadata": {},
   "outputs": [],
   "source": [
    "loaded_classifier = NeuralNetworkClassifier.load(\"DobQPM_QNN.model\")\n",
    "#loaded_classifier = QSVC.load(\"DobQPM_QSVC.model\")"
   ]
  },
  {
   "cell_type": "code",
   "execution_count": 10,
   "id": "375492d7-5816-4dcd-8152-aa99984eef00",
   "metadata": {},
   "outputs": [
    {
     "data": {
      "image/png": "[encoded data removed]",
      "text/plain": [
       "<Figure size 500x400 with 2 Axes>"
      ]
     },
     "metadata": {},
     "output_type": "display_data"
    }
   ],
   "source": [
    "y_pred = loaded_classifier.predict(X_test_prep)\n",
    "y_true = np.asarray(y_test)\n",
    "average = 'micro'\n",
    "\n",
    "# Compute the confusion matrix\n",
    "cm = confusion_matrix(y_true, y_pred)\n",
    "\n",
    "# Create a heatmap of the confusion matrix\n",
    "plt.figure(figsize=(5, 4))\n",
    "sns.heatmap(cm, annot=True)\n",
    "plt.title('Confusion Matrix')\n",
    "plt.xlabel('Predicted')\n",
    "plt.ylabel('True')\n",
    "plt.show()\n",
    "\n",
    "# Calcular acurácia\n",
    "Acc = accuracy_score(y_true, y_pred)\n",
    "\n",
    "# Mostrar métricas\n",
    "pd.DataFrame({\n",
    "    \"Accuracy\": round(Acc * 100, 3),\n",
    "    \"Precision\": round(precision_score(y_true, y_pred, average=average) * 100, 3),\n",
    "    \"Recall\": round(recall_score(y_true, y_pred, average=average) * 100, 3),\n",
    "    \"F1_Score\": round(f1_score(y_true, y_pred, average=average) * 100, 3),\n",
    "}, index=range(4)).head(1)\n",
    "\n",
    "# Salvar resultado\n",
    "with open(\"result.txt\", \"w\") as f:\n",
    "    f.write(f\"QSVC Accuracy: {Acc * 100:.2f}%\")\n"
   ]
  },
  {
   "cell_type": "code",
   "execution_count": null,
   "id": "4c074f38-f9ff-429e-96a5-a4081cac258d",
   "metadata": {},
   "outputs": [],
   "source": []
  }
 ],
 "metadata": {
  "kernelspec": {
   "display_name": "Python 3 (ipykernel)",
   "language": "python",
   "name": "python3"
  },
  "language_info": {
   "codemirror_mode": {
    "name": "ipython",
    "version": 3
   },
   "file_extension": ".py",
   "mimetype": "text/x-python",
   "name": "python",
   "nbconvert_exporter": "python",
   "pygments_lexer": "ipython3",
   "version": "3.10.18"
  }
 },
 "nbformat": 4,
 "nbformat_minor": 5
}
