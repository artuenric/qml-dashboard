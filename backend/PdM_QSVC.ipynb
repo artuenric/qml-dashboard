{
 "cells": [
  {
   "cell_type": "code",
   "execution_count": 1,
   "id": "e124ee83-9fc0-418a-97b7-ae611e459747",
   "metadata": {},
   "outputs": [
    {
     "ename": "ImportError",
     "evalue": "cannot import name 'algorithm_globals' from 'qiskit.utils' (c:\\Users\\diego\\anaconda3\\lib\\site-packages\\qiskit\\utils\\__init__.py)",
     "output_type": "error",
     "traceback": [
      "\u001b[1;31m---------------------------------------------------------------------------\u001b[0m",
      "\u001b[1;31mImportError\u001b[0m                               Traceback (most recent call last)",
      "\u001b[1;32m~\\AppData\\Local\\Temp\\ipykernel_8140\\1216371956.py\u001b[0m in \u001b[0;36m<module>\u001b[1;34m\u001b[0m\n\u001b[0;32m      1\u001b[0m \u001b[1;32mfrom\u001b[0m \u001b[0mqiskit_machine_learning\u001b[0m\u001b[1;33m.\u001b[0m\u001b[0malgorithms\u001b[0m\u001b[1;33m.\u001b[0m\u001b[0mclassifiers\u001b[0m \u001b[1;32mimport\u001b[0m \u001b[0mQSVC\u001b[0m\u001b[1;33m\u001b[0m\u001b[1;33m\u001b[0m\u001b[0m\n\u001b[0;32m      2\u001b[0m \u001b[1;32mfrom\u001b[0m \u001b[0mqiskit_machine_learning\u001b[0m\u001b[1;33m.\u001b[0m\u001b[0mkernels\u001b[0m \u001b[1;32mimport\u001b[0m \u001b[0mFidelityQuantumKernel\u001b[0m\u001b[1;33m\u001b[0m\u001b[1;33m\u001b[0m\u001b[0m\n\u001b[1;32m----> 3\u001b[1;33m \u001b[1;32mfrom\u001b[0m \u001b[0mqiskit\u001b[0m\u001b[1;33m.\u001b[0m\u001b[0mutils\u001b[0m \u001b[1;32mimport\u001b[0m \u001b[0malgorithm_globals\u001b[0m\u001b[1;33m\u001b[0m\u001b[1;33m\u001b[0m\u001b[0m\n\u001b[0m\u001b[0;32m      4\u001b[0m \u001b[1;32mfrom\u001b[0m \u001b[0mqiskit\u001b[0m\u001b[1;33m.\u001b[0m\u001b[0mcircuit\u001b[0m\u001b[1;33m.\u001b[0m\u001b[0mlibrary\u001b[0m \u001b[1;32mimport\u001b[0m \u001b[0mZZFeatureMap\u001b[0m\u001b[1;33m\u001b[0m\u001b[1;33m\u001b[0m\u001b[0m\n\u001b[0;32m      5\u001b[0m \u001b[1;32mfrom\u001b[0m \u001b[0mqiskit\u001b[0m \u001b[1;32mimport\u001b[0m \u001b[0mBasicAer\u001b[0m\u001b[1;33m\u001b[0m\u001b[1;33m\u001b[0m\u001b[0m\n",
      "\u001b[1;31mImportError\u001b[0m: cannot import name 'algorithm_globals' from 'qiskit.utils' (c:\\Users\\diego\\anaconda3\\lib\\site-packages\\qiskit\\utils\\__init__.py)"
     ]
    }
   ],
   "source": [
    "from qiskit_machine_learning.algorithms.classifiers import QSVC\n",
    "from qiskit_machine_learning.kernels import FidelityQuantumKernel\n",
    "from qiskit.utils import algorithm_globals\n",
    "from qiskit.circuit.library import ZZFeatureMap\n",
    "from qiskit import BasicAer\n",
    "from sklearn.model_selection import train_test_split\n",
    "from sklearn.preprocessing import StandardScaler\n",
    "from sklearn.metrics import accuracy_score\n",
    "import pandas as pd\n",
    "import numpy as np\n",
    "\n",
    "# Seed para reprodutibilidade\n",
    "#algorithm_globals.random_seed = 12345\n",
    "\n",
    "# Carregar dataset (ajuste o caminho se necessário)\n",
    "df = pd.read_csv(\"df_combine.csv\")\n",
    "\n",
    "# Supondo que o dataset tenha colunas 'f1', 'f2', 'f3', ..., 'label'\n",
    "X = df.drop(columns=['label']).values\n",
    "y = df['label'].values\n",
    "\n",
    "# Pré-processamento\n",
    "scaler = StandardScaler()\n",
    "X_scaled = scaler.fit_transform(X)\n",
    "\n",
    "# Divisão treino/teste\n",
    "X_train, X_test, y_train, y_test = train_test_split(X_scaled, y, test_size=0.3, random_state=42)\n",
    "\n",
    "# Feature map e kernel quântico\n",
    "feature_map = ZZFeatureMap(feature_dimension=X.shape[1], reps=2)\n",
    "quantum_kernel = FidelityQuantumKernel(feature_map=feature_map)\n",
    "\n",
    "# Classificador QSVC\n",
    "qsvc = QSVC(quantum_kernel=quantum_kernel)\n",
    "qsvc.fit(X_train, y_train)\n",
    "\n",
    "# Avaliação\n",
    "y_pred = qsvc.predict(X_test)\n",
    "acc = accuracy_score(y_test, y_pred)\n",
    "\n",
    "# Salvar resultado\n",
    "with open(\"result.txt\", \"w\") as f:\n",
    "    f.write(f\"QSVC Accuracy: {acc * 100:.2f}%\")\n"
   ]
  },
  {
   "cell_type": "code",
   "execution_count": null,
   "id": "7b5b50bf",
   "metadata": {},
   "outputs": [],
   "source": []
  }
 ],
 "metadata": {
  "kernelspec": {
   "display_name": "base",
   "language": "python",
   "name": "python3"
  },
  "language_info": {
   "codemirror_mode": {
    "name": "ipython",
    "version": 3
   },
   "file_extension": ".py",
   "mimetype": "text/x-python",
   "name": "python",
   "nbconvert_exporter": "python",
   "pygments_lexer": "ipython3",
   "version": "3.9.13"
  }
 },
 "nbformat": 4,
 "nbformat_minor": 5
}
